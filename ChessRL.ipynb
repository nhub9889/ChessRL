{
 "cells": [
  {
   "cell_type": "code",
   "execution_count": null,
   "id": "initial_id",
   "metadata": {
    "collapsed": true
   },
   "outputs": [],
   "source": [
    "!mkdir ChessRL/data\n",
    "!mkdir ChessRL/model\n",
    "!mkdir ChessRL/checkpoints"
   ]
  },
  {
   "cell_type": "code",
   "outputs": [],
   "source": [
    "!wget https://database.lichess.org/standard/lichess_db_standard_rated_2018-12.pgn.zst -P ChessRL/data"
   ],
   "metadata": {
    "collapsed": false
   },
   "id": "4e453251a38e0ee3"
  },
  {
   "cell_type": "code",
   "outputs": [],
   "source": [
    "cd ChessRL/data"
   ],
   "metadata": {
    "collapsed": false
   },
   "id": "d238a143f5d685b2"
  },
  {
   "cell_type": "code",
   "outputs": [],
   "source": [
    "!apt-get install -y zstd\n",
    "!zstd -d lichess_db_standard_rated_2018-12.pgn.zst"
   ],
   "metadata": {
    "collapsed": false
   },
   "id": "d9508e0e1ea1139c"
  },
  {
   "cell_type": "code",
   "outputs": [],
   "source": [
    "!python main.py --pgn_path \"data/lichess_db_standard_rated_2018-12.pgn\" --train True"
   ],
   "metadata": {
    "collapsed": false
   },
   "id": "d37965a37169bd85"
  }
 ],
 "metadata": {
  "kernelspec": {
   "display_name": "Python 3",
   "language": "python",
   "name": "python3"
  },
  "language_info": {
   "codemirror_mode": {
    "name": "ipython",
    "version": 2
   },
   "file_extension": ".py",
   "mimetype": "text/x-python",
   "name": "python",
   "nbconvert_exporter": "python",
   "pygments_lexer": "ipython2",
   "version": "2.7.6"
  }
 },
 "nbformat": 4,
 "nbformat_minor": 5
}
