{
 "cells": [
  {
   "cell_type": "code",
   "outputs": [],
   "source": [
    "!git clone https://github.com/nhub9889/ChessRL"
   ],
   "metadata": {
    "collapsed": false
   },
   "id": "d528494616cb4189"
  },
  {
   "cell_type": "code",
   "outputs": [],
   "source": [
    "import os\n",
    "import torch"
   ],
   "metadata": {
    "collapsed": false
   },
   "id": "42ccbd61f71aab7e"
  },
  {
   "cell_type": "code",
   "outputs": [],
   "source": [
    "os.environ['CUDA_LAUNCH_BLOCKING'] = '0'\n",
    "os.environ['TORCH_USE_CUDA_DSA'] = '1'\n",
    "torch.backends.cudnn.benchmark = True\n",
    "torch.backends.cuda.matmul.allow_tf32 = True\n",
    "torch.backends.cudnn.allow_tf32 = True"
   ],
   "metadata": {
    "collapsed": true
   },
   "id": "initial_id",
   "execution_count": 0
  },
  {
   "cell_type": "code",
   "outputs": [],
   "source": [
    "!pip install chess"
   ],
   "metadata": {
    "collapsed": false
   },
   "id": "36faa750f4d24703"
  },
  {
   "cell_type": "code",
   "outputs": [],
   "source": [
    "cd ChessRL"
   ],
   "metadata": {
    "collapsed": false
   },
   "id": "82335ebf38cd91de"
  },
  {
   "cell_type": "code",
   "outputs": [],
   "source": [
    "!python main.py --train True --num_workers 4 --batch_size 8192 --iterations 56000"
   ],
   "metadata": {
    "collapsed": false
   },
   "id": "d37965a37169bd85"
  }
 ],
 "metadata": {
  "kernelspec": {
   "display_name": "Python 3",
   "language": "python",
   "name": "python3"
  },
  "language_info": {
   "codemirror_mode": {
    "name": "ipython",
    "version": 2
   },
   "file_extension": ".py",
   "mimetype": "text/x-python",
   "name": "python",
   "nbconvert_exporter": "python",
   "pygments_lexer": "ipython2",
   "version": "2.7.6"
  }
 },
 "nbformat": 4,
 "nbformat_minor": 5
}
