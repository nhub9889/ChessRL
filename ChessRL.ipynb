{
 "cells": [
  {
   "cell_type": "code",
   "execution_count": null,
   "id": "d528494616cb4189",
   "metadata": {
    "collapsed": false
   },
   "outputs": [],
   "source": [
    "!git clone https://github.com/nhub9889/ChessRL"
   ]
  },
  {
   "cell_type": "code",
   "execution_count": 0,
   "id": "initial_id",
   "metadata": {
    "collapsed": true
   },
   "outputs": [],
   "source": [
    "!mkdir data\n",
    "!mkdir model\n",
    "!mkdir checkpoints"
   ]
  },
  {
   "cell_type": "code",
   "execution_count": null,
   "id": "36faa750f4d24703",
   "metadata": {
    "collapsed": false
   },
   "outputs": [],
   "source": [
    "!pip install chess matplotlib"
   ]
  },
  {
   "cell_type": "code",
   "execution_count": null,
   "id": "4e453251a38e0ee3",
   "metadata": {
    "collapsed": false
   },
   "outputs": [],
   "source": [
    "!wget https://database.lichess.org/standard/lichess_db_standard_rated_2014-01.pgn.zst -P ChessRL/data"
   ]
  },
  {
   "cell_type": "code",
   "execution_count": null,
   "id": "d238a143f5d685b2",
   "metadata": {
    "collapsed": false
   },
   "outputs": [],
   "source": [
    "cd data"
   ]
  },
  {
   "cell_type": "code",
   "execution_count": null,
   "id": "d9508e0e1ea1139c",
   "metadata": {
    "collapsed": false
   },
   "outputs": [],
   "source": [
    "!apt-get install -y zstd\n",
    "!zstd -d lichess_db_standard_rated_2014-01.pgn.zst"
   ]
  },
  {
   "cell_type": "code",
   "execution_count": null,
   "id": "82335ebf38cd91de",
   "metadata": {
    "collapsed": false
   },
   "outputs": [],
   "source": [
    "cd .."
   ]
  },
  {
   "cell_type": "code",
   "execution_count": null,
   "id": "d37965a37169bd85",
   "metadata": {
    "collapsed": false
   },
   "outputs": [],
   "source": [
    "!python main.py --pgn_path \"data/lichess_db_standard_rated_2014-01.pgn\" --train True --num_workers 0 --batch_size 1 --supervised_batch_size 1"
   ]
  }
 ],
 "metadata": {
  "kernelspec": {
   "display_name": "Python 3",
   "language": "python",
   "name": "python3"
  },
  "language_info": {
   "codemirror_mode": {
    "name": "ipython",
    "version": 2
   },
   "file_extension": ".py",
   "mimetype": "text/x-python",
   "name": "python",
   "nbconvert_exporter": "python",
   "pygments_lexer": "ipython2",
   "version": "2.7.6"
  }
 },
 "nbformat": 4,
 "nbformat_minor": 5
}
