{
 "cells": [
  {
   "cell_type": "code",
   "outputs": [],
   "source": [
    "!git clone https://github.com/nhub9889/ChessRL"
   ],
   "metadata": {
    "collapsed": false
   },
   "id": "d528494616cb4189"
  },
  {
   "cell_type": "code",
   "outputs": [],
   "source": [
    "!mkdir ChessRL/data\n",
    "!mkdir ChessRL/model\n",
    "!mkdir ChessRL/checkpointsmk"
   ],
   "metadata": {
    "collapsed": true
   },
   "id": "initial_id",
   "execution_count": 0
  },
  {
   "cell_type": "code",
   "outputs": [],
   "source": [
    "!pip install chess"
   ],
   "metadata": {
    "collapsed": false
   },
   "id": "36faa750f4d24703"
  },
  {
   "cell_type": "code",
   "outputs": [],
   "source": [
    "!wget https://database.lichess.org/standard/lichess_db_standard_rated_2014-01.pgn.zst -P ChessRL/data"
   ],
   "metadata": {
    "collapsed": false
   },
   "id": "4e453251a38e0ee3"
  },
  {
   "cell_type": "code",
   "outputs": [],
   "source": [
    "cd ChessRL/data"
   ],
   "metadata": {
    "collapsed": false
   },
   "id": "d238a143f5d685b2"
  },
  {
   "cell_type": "code",
   "outputs": [],
   "source": [
    "!apt-get install -y zstd\n",
    "!zstd -d lichess_db_standard_rated_2014-01.pgn.zst"
   ],
   "metadata": {
    "collapsed": false
   },
   "id": "d9508e0e1ea1139c"
  },
  {
   "cell_type": "code",
   "outputs": [],
   "source": [
    "cd .."
   ],
   "metadata": {
    "collapsed": false
   },
   "id": "82335ebf38cd91de"
  },
  {
   "cell_type": "code",
   "outputs": [],
   "source": [
    "!python main.py --pgn_path \"data/lichess_db_standard_rated_2014-01.pgn\" --train True --num_workers 0 --batch_size 1 --supervised_batch_size 1"
   ],
   "metadata": {
    "collapsed": false
   },
   "id": "d37965a37169bd85"
  }
 ],
 "metadata": {
  "kernelspec": {
   "display_name": "Python 3",
   "language": "python",
   "name": "python3"
  },
  "language_info": {
   "codemirror_mode": {
    "name": "ipython",
    "version": 2
   },
   "file_extension": ".py",
   "mimetype": "text/x-python",
   "name": "python",
   "nbconvert_exporter": "python",
   "pygments_lexer": "ipython2",
   "version": "2.7.6"
  }
 },
 "nbformat": 4,
 "nbformat_minor": 5
}
